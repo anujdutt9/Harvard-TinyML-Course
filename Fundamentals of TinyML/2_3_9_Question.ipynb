{
  "nbformat": 4,
  "nbformat_minor": 0,
  "metadata": {
    "accelerator": "GPU",
    "colab": {
      "name": "2-3-9-Question.ipynb",
      "provenance": []
    },
    "kernelspec": {
      "display_name": "Python 3",
      "language": "python",
      "name": "python3"
    },
    "language_info": {
      "codemirror_mode": {
        "name": "ipython",
        "version": 3
      },
      "file_extension": ".py",
      "mimetype": "text/x-python",
      "name": "python",
      "nbconvert_exporter": "python",
      "pygments_lexer": "ipython3",
      "version": "3.6.9"
    }
  },
  "cells": [
    {
      "cell_type": "markdown",
      "metadata": {
        "id": "iiVBUpuHXEtw"
      },
      "source": [
        "# Create a CNN to classify Cifar-10\n",
        "\n",
        "Learn about Cifar-10 here: https://www.cs.toronto.edu/~kriz/cifar.html\n",
        "\n",
        "In class you saw how to build a Convolutional Neural Network that classified Fashion MNIST. Take what you learned to build a CNN that recognizes the 10 classes of CIFAR. It will be a similar network, but there are some key differences you'll need to take into account.\n",
        "\n",
        "First, while MNIST were 28x28 monochome images (1 color channel), CIFAR are 32x32 color images (3 color channels).\n",
        "\n",
        "Second, MNIST images are simple, containing just the object, centered in the image, with no background. CIFAR ones can have the object with a background -- for example airplanes might have a cloudy sky behind them! As such you should expect your accuracy to be a bit lower. \n",
        "\n",
        "We start by setting up the problem for you."
      ]
    },
    {
      "cell_type": "code",
      "metadata": {
        "id": "6OQ_tVTaU3oo",
        "outputId": "0b758f12-f5f8-47c3-ca00-6f1c299a99ed",
        "colab": {
          "base_uri": "https://localhost:8080/"
        }
      },
      "source": [
        "import tensorflow as tf\n",
        "\n",
        "from tensorflow.keras import datasets, layers, models\n",
        "import matplotlib.pyplot as plt\n",
        "\n",
        "(train_images, train_labels), (test_images, test_labels) = datasets.cifar10.load_data()\n",
        "\n",
        "# Normalize pixel values to be between 0 and 1\n",
        "train_images = train_images / 255.0\n",
        "test_images = test_images / 255.0"
      ],
      "execution_count": 1,
      "outputs": [
        {
          "output_type": "stream",
          "text": [
            "Downloading data from https://www.cs.toronto.edu/~kriz/cifar-10-python.tar.gz\n",
            "170500096/170498071 [==============================] - 6s 0us/step\n"
          ],
          "name": "stdout"
        }
      ]
    },
    {
      "cell_type": "markdown",
      "metadata": {
        "id": "YZJHr3zUMp0D"
      },
      "source": [
        "We then definte some of the model for you but leave most of it for you to fill in! \n",
        "\n",
        "*A hint: your model may want to learn some high level features and then classify them.*"
      ]
    },
    {
      "cell_type": "code",
      "metadata": {
        "id": "law2hNzdVA16"
      },
      "source": [
        "FIRST_LAYER = layers.Conv2D(32, (3, 3), activation='relu', input_shape=(32, 32, 3))\n",
        "HIDDEN_LAYER_TYPE_1 = layers.MaxPooling2D((2, 2))\n",
        "HIDDEN_LAYER_TYPE_2 = layers.Conv2D(64, (3, 3), activation='relu')\n",
        "HIDDEN_LAYER_TYPE_3 = layers.MaxPooling2D((2, 2))\n",
        "HIDDEN_LAYER_TYPE_4 = layers.Conv2D(64, (3, 3), activation='relu')\n",
        "HIDDEN_LAYER_TYPE_5 = layers.Dense(64, activation='relu')\n",
        "LAST_LAYER = layers.Dense(10)\n",
        "\n",
        "model = models.Sequential([\n",
        "       FIRST_LAYER,\n",
        "       HIDDEN_LAYER_TYPE_1,\n",
        "       HIDDEN_LAYER_TYPE_2,\n",
        "       HIDDEN_LAYER_TYPE_3,\n",
        "       HIDDEN_LAYER_TYPE_4,\n",
        "       layers.Flatten(),\n",
        "       HIDDEN_LAYER_TYPE_5,\n",
        "       LAST_LAYER,\n",
        "])"
      ],
      "execution_count": 2,
      "outputs": []
    },
    {
      "cell_type": "markdown",
      "metadata": {
        "id": "RsyOVl0YMp0I"
      },
      "source": [
        "You then need to define loss function. And you can then train your model. Once training is done you'll see a plot of training and validation accuracy. You'll know you have a reasonable model with a reasonable loss funciton if your final training accuracy ends up in the 70s (or possibly higher).\n",
        "\n",
        "*A hint: your model may want to learn different categories.*"
      ]
    },
    {
      "cell_type": "code",
      "metadata": {
        "id": "Dxq2JU7dVIEX",
        "outputId": "32ff2b97-d151-4d86-fd80-dc482cc1fa24",
        "colab": {
          "base_uri": "https://localhost:8080/",
          "height": 975
        }
      },
      "source": [
        "LOSS = tf.keras.losses.SparseCategoricalCrossentropy(from_logits=True)     #YOUR CODE HERE#\n",
        "NUM_EPOCHS = 20 #You can change this value if you like to experiment with it to get better accuracy\n",
        "\n",
        "# Compile the model\n",
        "model.compile(optimizer='sgd',\n",
        "              loss=LOSS,\n",
        "              metrics=['accuracy'])\n",
        "\n",
        "# Fit the model\n",
        "history = model.fit(train_images, train_labels, epochs=NUM_EPOCHS, \n",
        "                    validation_data=(test_images, test_labels))\n",
        "\n",
        "# summarize history for accuracy\n",
        "plt.plot(history.history['accuracy'])\n",
        "plt.plot(history.history['val_accuracy'])\n",
        "plt.title('model accuracy')\n",
        "plt.ylabel('accuracy')\n",
        "plt.xlabel('epoch')\n",
        "plt.legend(['train', 'test'], loc='upper left')\n",
        "plt.xlim([0,NUM_EPOCHS])\n",
        "plt.ylim([0.4,1.0])\n",
        "plt.show()"
      ],
      "execution_count": 3,
      "outputs": [
        {
          "output_type": "stream",
          "text": [
            "Epoch 1/20\n",
            "1563/1563 [==============================] - 6s 4ms/step - loss: 2.0701 - accuracy: 0.2373 - val_loss: 1.9058 - val_accuracy: 0.3144\n",
            "Epoch 2/20\n",
            "1563/1563 [==============================] - 6s 4ms/step - loss: 1.7070 - accuracy: 0.3832 - val_loss: 1.5896 - val_accuracy: 0.4292\n",
            "Epoch 3/20\n",
            "1563/1563 [==============================] - 5s 3ms/step - loss: 1.4916 - accuracy: 0.4625 - val_loss: 1.4344 - val_accuracy: 0.4834\n",
            "Epoch 4/20\n",
            "1563/1563 [==============================] - 6s 4ms/step - loss: 1.3707 - accuracy: 0.5102 - val_loss: 1.3457 - val_accuracy: 0.5180\n",
            "Epoch 5/20\n",
            "1563/1563 [==============================] - 6s 4ms/step - loss: 1.2841 - accuracy: 0.5451 - val_loss: 1.2379 - val_accuracy: 0.5590\n",
            "Epoch 6/20\n",
            "1563/1563 [==============================] - 5s 3ms/step - loss: 1.2092 - accuracy: 0.5744 - val_loss: 1.2196 - val_accuracy: 0.5643\n",
            "Epoch 7/20\n",
            "1563/1563 [==============================] - 6s 4ms/step - loss: 1.1452 - accuracy: 0.5995 - val_loss: 1.1449 - val_accuracy: 0.6020\n",
            "Epoch 8/20\n",
            "1563/1563 [==============================] - 5s 3ms/step - loss: 1.0880 - accuracy: 0.6174 - val_loss: 1.1141 - val_accuracy: 0.6037\n",
            "Epoch 9/20\n",
            "1563/1563 [==============================] - 5s 4ms/step - loss: 1.0380 - accuracy: 0.6382 - val_loss: 1.1283 - val_accuracy: 0.6011\n",
            "Epoch 10/20\n",
            "1563/1563 [==============================] - 6s 4ms/step - loss: 0.9967 - accuracy: 0.6518 - val_loss: 1.0587 - val_accuracy: 0.6294\n",
            "Epoch 11/20\n",
            "1563/1563 [==============================] - 6s 4ms/step - loss: 0.9581 - accuracy: 0.6639 - val_loss: 1.0062 - val_accuracy: 0.6428\n",
            "Epoch 12/20\n",
            "1563/1563 [==============================] - 6s 4ms/step - loss: 0.9206 - accuracy: 0.6767 - val_loss: 1.0429 - val_accuracy: 0.6413\n",
            "Epoch 13/20\n",
            "1563/1563 [==============================] - 6s 4ms/step - loss: 0.8849 - accuracy: 0.6911 - val_loss: 0.9824 - val_accuracy: 0.6535\n",
            "Epoch 14/20\n",
            "1563/1563 [==============================] - 5s 4ms/step - loss: 0.8546 - accuracy: 0.7001 - val_loss: 0.9944 - val_accuracy: 0.6619\n",
            "Epoch 15/20\n",
            "1563/1563 [==============================] - 6s 4ms/step - loss: 0.8257 - accuracy: 0.7114 - val_loss: 1.0407 - val_accuracy: 0.6400\n",
            "Epoch 16/20\n",
            "1563/1563 [==============================] - 6s 4ms/step - loss: 0.7989 - accuracy: 0.7192 - val_loss: 1.0217 - val_accuracy: 0.6549\n",
            "Epoch 17/20\n",
            "1563/1563 [==============================] - 5s 4ms/step - loss: 0.7723 - accuracy: 0.7289 - val_loss: 1.0339 - val_accuracy: 0.6467\n",
            "Epoch 18/20\n",
            "1563/1563 [==============================] - 5s 3ms/step - loss: 0.7440 - accuracy: 0.7407 - val_loss: 0.9502 - val_accuracy: 0.6754\n",
            "Epoch 19/20\n",
            "1563/1563 [==============================] - 5s 4ms/step - loss: 0.7222 - accuracy: 0.7478 - val_loss: 0.9511 - val_accuracy: 0.6699\n",
            "Epoch 20/20\n",
            "1563/1563 [==============================] - 5s 4ms/step - loss: 0.6969 - accuracy: 0.7551 - val_loss: 0.9167 - val_accuracy: 0.6859\n"
          ],
          "name": "stdout"
        },
        {
          "output_type": "display_data",
          "data": {
            "image/png": "[encoded data removed]",
            "text/plain": [
              "<Figure size 432x288 with 1 Axes>"
            ]
          },
          "metadata": {
            "tags": [],
            "needs_background": "light"
          }
        }
      ]
    },
    {
      "cell_type": "markdown",
      "metadata": {
        "id": "AOb1f6hpMp0L"
      },
      "source": [
        "Finally, pick a better optimizer. And re-train your model. You'll know you have a reasonable model with a reasonable loss funciton and optimizer if your final training accuracy ends up in the 80s (or possibly higher).\n",
        "\n",
        "*A hint: your model may want to learn adaptively.*"
      ]
    },
    {
      "cell_type": "code",
      "metadata": {
        "id": "LMMZCn8JMp0L",
        "outputId": "5ea9471c-a453-40c2-a96a-f42927076194",
        "colab": {
          "base_uri": "https://localhost:8080/",
          "height": 975
        }
      },
      "source": [
        "OPTIMIZER = 'adam'         #YOUR CODE HERE#\n",
        "\n",
        "# Compile the model\n",
        "model.compile(optimizer=OPTIMIZER,\n",
        "              loss=LOSS,\n",
        "              metrics=['accuracy'])\n",
        "\n",
        "# Fit the model\n",
        "history = model.fit(train_images, train_labels, epochs=NUM_EPOCHS, \n",
        "                    validation_data=(test_images, test_labels))\n",
        "\n",
        "# summarize history for accuracy\n",
        "plt.plot(history.history['accuracy'])\n",
        "plt.plot(history.history['val_accuracy'])\n",
        "plt.title('model accuracy')\n",
        "plt.ylabel('accuracy')\n",
        "plt.xlabel('epoch')\n",
        "plt.legend(['train', 'test'], loc='upper left')\n",
        "plt.xlim([0,NUM_EPOCHS])\n",
        "plt.ylim([0.4,1.0])\n",
        "plt.show()"
      ],
      "execution_count": 4,
      "outputs": [
        {
          "output_type": "stream",
          "text": [
            "Epoch 1/20\n",
            "1563/1563 [==============================] - 6s 4ms/step - loss: 0.8742 - accuracy: 0.6919 - val_loss: 0.9415 - val_accuracy: 0.6792\n",
            "Epoch 2/20\n",
            "1563/1563 [==============================] - 6s 4ms/step - loss: 0.7925 - accuracy: 0.7218 - val_loss: 0.9252 - val_accuracy: 0.6814\n",
            "Epoch 3/20\n",
            "1563/1563 [==============================] - 6s 4ms/step - loss: 0.7103 - accuracy: 0.7491 - val_loss: 0.8812 - val_accuracy: 0.7025\n",
            "Epoch 4/20\n",
            "1563/1563 [==============================] - 6s 4ms/step - loss: 0.6397 - accuracy: 0.7753 - val_loss: 0.9013 - val_accuracy: 0.7005\n",
            "Epoch 5/20\n",
            "1563/1563 [==============================] - 6s 4ms/step - loss: 0.5732 - accuracy: 0.7963 - val_loss: 0.9662 - val_accuracy: 0.6881\n",
            "Epoch 6/20\n",
            "1563/1563 [==============================] - 6s 4ms/step - loss: 0.5153 - accuracy: 0.8177 - val_loss: 1.0084 - val_accuracy: 0.6876\n",
            "Epoch 7/20\n",
            "1563/1563 [==============================] - 6s 4ms/step - loss: 0.4590 - accuracy: 0.8374 - val_loss: 1.0265 - val_accuracy: 0.6951\n",
            "Epoch 8/20\n",
            "1563/1563 [==============================] - 6s 4ms/step - loss: 0.4097 - accuracy: 0.8548 - val_loss: 1.0382 - val_accuracy: 0.6945\n",
            "Epoch 9/20\n",
            "1563/1563 [==============================] - 6s 4ms/step - loss: 0.3638 - accuracy: 0.8691 - val_loss: 1.0983 - val_accuracy: 0.6986\n",
            "Epoch 10/20\n",
            "1563/1563 [==============================] - 6s 4ms/step - loss: 0.3197 - accuracy: 0.8861 - val_loss: 1.1989 - val_accuracy: 0.6918\n",
            "Epoch 11/20\n",
            "1563/1563 [==============================] - 6s 4ms/step - loss: 0.2877 - accuracy: 0.8970 - val_loss: 1.2622 - val_accuracy: 0.6927\n",
            "Epoch 12/20\n",
            "1563/1563 [==============================] - 6s 4ms/step - loss: 0.2599 - accuracy: 0.9066 - val_loss: 1.3413 - val_accuracy: 0.6936\n",
            "Epoch 13/20\n",
            "1563/1563 [==============================] - 6s 4ms/step - loss: 0.2375 - accuracy: 0.9148 - val_loss: 1.3824 - val_accuracy: 0.6876\n",
            "Epoch 14/20\n",
            "1563/1563 [==============================] - 6s 4ms/step - loss: 0.2102 - accuracy: 0.9238 - val_loss: 1.5293 - val_accuracy: 0.6849\n",
            "Epoch 15/20\n",
            "1563/1563 [==============================] - 6s 4ms/step - loss: 0.2034 - accuracy: 0.9267 - val_loss: 1.6474 - val_accuracy: 0.6758\n",
            "Epoch 16/20\n",
            "1563/1563 [==============================] - 6s 4ms/step - loss: 0.1856 - accuracy: 0.9343 - val_loss: 1.6684 - val_accuracy: 0.6918\n",
            "Epoch 17/20\n",
            "1563/1563 [==============================] - 6s 4ms/step - loss: 0.1751 - accuracy: 0.9381 - val_loss: 1.7418 - val_accuracy: 0.6871\n",
            "Epoch 18/20\n",
            "1563/1563 [==============================] - 6s 4ms/step - loss: 0.1607 - accuracy: 0.9444 - val_loss: 1.8455 - val_accuracy: 0.6881\n",
            "Epoch 19/20\n",
            "1563/1563 [==============================] - 6s 4ms/step - loss: 0.1567 - accuracy: 0.9445 - val_loss: 1.9553 - val_accuracy: 0.6859\n",
            "Epoch 20/20\n",
            "1563/1563 [==============================] - 6s 4ms/step - loss: 0.1519 - accuracy: 0.9464 - val_loss: 1.9455 - val_accuracy: 0.6824\n"
          ],
          "name": "stdout"
        },
        {
          "output_type": "display_data",
          "data": {
            "image/png": "[encoded data removed]",
            "text/plain": [
              "<Figure size 432x288 with 1 Axes>"
            ]
          },
          "metadata": {
            "tags": [],
            "needs_background": "light"
          }
        }
      ]
    }
  ]
}